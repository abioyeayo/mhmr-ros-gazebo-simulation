{
 "cells": [
  {
   "cell_type": "code",
   "execution_count": 1,
   "id": "148b6534-8214-42bf-97d2-7e91b636088a",
   "metadata": {},
   "outputs": [
    {
     "name": "stderr",
     "output_type": "stream",
     "text": [
      "C:\\Apps\\Anaconda3\\lib\\site-packages\\numpy\\_distributor_init.py:30: UserWarning: loaded more than 1 DLL from .libs:\n",
      "C:\\Apps\\Anaconda3\\lib\\site-packages\\numpy\\.libs\\libopenblas.EL2C6PLE4ZYW3ECEVIV3OXXGRN2NRFM2.gfortran-win_amd64.dll\n",
      "C:\\Apps\\Anaconda3\\lib\\site-packages\\numpy\\.libs\\libopenblas64__v0.3.21-gcc_10_3_0.dll\n",
      "  warnings.warn(\"loaded more than 1 DLL from .libs:\"\n"
     ]
    }
   ],
   "source": [
    "from WorldEnvOHEOracle import WorldEnv\n",
    "import numpy as np\n",
    "import matplotlib.pyplot as plt"
   ]
  },
  {
   "cell_type": "code",
   "execution_count": null,
   "id": "47b7b671-6b29-4bfa-845c-5ef3e40051a0",
   "metadata": {},
   "outputs": [],
   "source": [
    "for i in range(0,30):\n",
    "    seed_set=i\n",
    "    env = WorldEnv(n_drones=3,seed=seed_set, max_timesteps=1000)\n",
    "    observations, infos = env.reset()\n",
    "    drone_1_location = np.argwhere(env.all_grids[3] == 1)[0]\n",
    "    drone_2_location = np.argwhere(env.all_grids[4] == 1)[0]\n",
    "    drone_3_location = np.argwhere(env.all_grids[5] == 1)[0]\n",
    "    target_location = np.argwhere(env.all_grids[2] == 1)[0]\n",
    "    human_locations = np.argwhere(env.all_grids[0] == 1)\n",
    "    safe_locations = np.argwhere(env.all_grids[1] == 1)\n",
    "\n",
    "    # Convert human and safe locations to sets of tuples for easier lookup\n",
    "    human_locations_set = set(map(tuple, human_locations))\n",
    "    safe_locations_set = set(map(tuple, safe_locations))\n",
    "\n",
    "    # Get paths for each drone\n",
    "    drone_1_path,drone_1_actions = dijkstra(tuple(drone_1_location), tuple(target_location), set(), human_locations_set, safe_locations_set)\n",
    "    drone_2_path,drone_2_actions = dijkstra(tuple(drone_2_location), tuple(target_location), set(), human_locations_set, safe_locations_set)\n",
    "    drone_3_path,drone_3_actions = dijkstra(tuple(drone_3_location), tuple(target_location), set(), human_locations_set, safe_locations_set)\n",
    "\n",
    "    # Print or return the paths\n",
    "    print(\"--------------------------------------------------\")\n",
    "    print(seed_set)\n",
    "    #print(\"Drone 1 Path:\", drone_1_path)\n",
    "    #print(\"Drone 2 Path:\", drone_2_path)\n",
    "    #print(\"Drone 3 Path:\", drone_3_path)\n",
    "    drone_actions = convert_to_dicts(drone_1_actions,drone_2_actions,drone_3_actions)\n",
    "    get_visualisation(drone_actions)\n",
    "    print(\"Number of steps: \", max(len(drone_1_path),len(drone_2_path),len(drone_3_path)))\n",
    "    print(\"--------------------------------------------------\")"
   ]
  },
  {
   "cell_type": "code",
   "execution_count": 3,
   "id": "bc24f934-3d83-49e3-a137-dc9a4196fefe",
   "metadata": {},
   "outputs": [
    {
     "name": "stdout",
     "output_type": "stream",
     "text": [
      "Drone 1 Path: [(1, 1), (1, 2), (1, 3), (1, 4), (2, 4), (3, 4), (4, 4), (4, 5), (4, 6), (4, 7), (4, 8), (4, 9), (5, 9), (6, 9), (7, 9), (8, 9), (9, 9)]\n",
      "Drone 2 Path: [(0, 1), (0, 2), (0, 3), (0, 4), (0, 5), (0, 6), (0, 7), (0, 8), (0, 9), (1, 9), (2, 9), (3, 9), (4, 9), (5, 9), (6, 9), (7, 9), (8, 9), (9, 9)]\n",
      "Drone 3 Path: [(2, 1), (2, 2), (2, 3), (2, 4), (3, 4), (4, 4), (4, 5), (4, 6), (4, 7), (4, 8), (4, 9), (5, 9), (6, 9), (7, 9), (8, 9), (9, 9)]\n"
     ]
    }
   ],
   "source": [
    "import numpy as np\n",
    "import heapq\n",
    "\n",
    "# Define movement directions: up, down, left, right\n",
    "MOVEMENTS = [(-1, 0), (1, 0), (0, -1), (0, 1)]\n",
    "\n",
    "# Assign different costs for moving into different types of zones\n",
    "NORMAL_COST = 1        # Cost for normal zones\n",
    "HUMAN_SAFE_COST = 10   # Higher cost for human or safe zones\n",
    "\n",
    "# Check if a cell is valid (in bounds)\n",
    "def is_in_bounds(x, y):\n",
    "    return 0 <= x <= 10 and 0 <= y <= 10\n",
    "\n",
    "def convert_to_dicts(drone_1,drone_2,drone_3):\n",
    "    # Create a list of dictionaries\n",
    "    dict_list = []\n",
    "\n",
    "    # Iterate through the values in chunks of group_size\n",
    "    for drone_1_v,drone_2_v,drone_3_v in zip(drone_1,drone_2,drone_3):\n",
    "        # Create a dictionary for each group\n",
    "        dict_entry = {'drone_0': drone_1_v,'drone_1':drone_2_v,'drone_2':drone_3_v}\n",
    "        dict_list.append(dict_entry)\n",
    "    \n",
    "    return dict_list\n",
    "\n",
    "# Determine the cost of moving into a cell\n",
    "def get_cell_cost(x, y, human_locations, safe_locations):\n",
    "    if (x, y) in human_locations or (x, y) in safe_locations:\n",
    "        return HUMAN_SAFE_COST  # Higher cost for human or safe zones\n",
    "    return NORMAL_COST  # Normal cost for other zones\n",
    "\n",
    "# Dijkstra's algorithm for finding the shortest path with different movement costs\n",
    "def dijkstra(start, target, blocked_cells, human_locations, safe_locations):\n",
    "    # Priority queue for exploring nodes (stores (cost, x, y))\n",
    "    pq = []\n",
    "    heapq.heappush(pq, (0, start))\n",
    "    \n",
    "    # Dictionary to store the cost of reaching each node\n",
    "    g_cost = {start: 0}\n",
    "    \n",
    "    # Dictionary to reconstruct the path later\n",
    "    came_from = {start: None}\n",
    "    \n",
    "    while pq:\n",
    "        # Get the node with the lowest cost\n",
    "        current_cost, current = heapq.heappop(pq)\n",
    "        x, y = current\n",
    "        \n",
    "        # If we've reached the target, reconstruct the path\n",
    "        if (x, y) == tuple(target):\n",
    "            path = []\n",
    "            directions = []\n",
    "            while current:\n",
    "                if came_from[current] != None:\n",
    "                    dy,dx = np.array(current) - np.array(came_from[current])\n",
    "                    if (dx == 0) & (dy == 1):\n",
    "                        direction = 0\n",
    "                    elif (dx == 1) & (dy == 0):\n",
    "                        direction = 1\n",
    "                    elif (dx == 0) & (dy == -1):\n",
    "                        direction = 2\n",
    "                    elif (dx == -1) & (dy == 0):\n",
    "                        direction = 3\n",
    "                    directions.append(direction)\n",
    "                path.append(current)\n",
    "                current = came_from[current]\n",
    "            return path[::-1],directions[::-1]  # Return reversed path (from start to target)\n",
    "        \n",
    "        # Explore neighbors\n",
    "        for dx, dy in MOVEMENTS:\n",
    "            neighbor = (x + dx, y + dy)\n",
    "            if is_in_bounds(neighbor[0], neighbor[1]):\n",
    "                new_cost = current_cost + get_cell_cost(neighbor[0], neighbor[1], human_locations, safe_locations)\n",
    "                \n",
    "                # If this path to the neighbor is shorter, or neighbor hasn't been explored\n",
    "                if neighbor not in g_cost or new_cost < g_cost[neighbor]:\n",
    "                    g_cost[neighbor] = new_cost\n",
    "                    heapq.heappush(pq, (new_cost, neighbor))\n",
    "                    came_from[neighbor] = (x, y)\n",
    "    \n",
    "    return None,None  # If no path is found\n",
    "\n",
    "# Convert human and safe locations to sets of tuples for easier lookup\n",
    "human_locations_set = set(map(tuple, human_locations))\n",
    "safe_locations_set = set(map(tuple, safe_locations))\n",
    "\n",
    "# Get paths for each drone\n",
    "drone_1_path,drone_1_actions = dijkstra(tuple(drone_1_location), tuple(target_location), set(), human_locations_set, safe_locations_set)\n",
    "drone_2_path,drone_2_actions = dijkstra(tuple(drone_2_location), tuple(target_location), set(), human_locations_set, safe_locations_set)\n",
    "drone_3_path,drone_3_actions = dijkstra(tuple(drone_3_location), tuple(target_location), set(), human_locations_set, safe_locations_set)\n",
    "\n",
    "# Print or return the paths\n",
    "print(\"Drone 1 Path:\", drone_1_path)\n",
    "print(\"Drone 2 Path:\", drone_2_path)\n",
    "print(\"Drone 3 Path:\", drone_3_path)\n",
    "drone_actions = convert_to_dicts(drone_1_actions,drone_2_actions,drone_3_actions)"
   ]
  },
  {
   "cell_type": "code",
   "execution_count": 4,
   "id": "fa1e0c82-0613-469e-a6fc-22ca238fc1c1",
   "metadata": {},
   "outputs": [
    {
     "data": {
      "image/png": "[encoded data removed]",
      "text/plain": [
       "<Figure size 640x480 with 1 Axes>"
      ]
     },
     "metadata": {},
     "output_type": "display_data"
    }
   ],
   "source": [
    "def get_visualisation(all_actions):\n",
    "    env = WorldEnv(n_drones=3,seed=seed_set, max_timesteps=2000)\n",
    "    observations, infos = env.reset()\n",
    "    # Create an empty grid\n",
    "    fig, ax = plt.subplots()\n",
    "    grid = np.zeros(env.all_grids[0].shape)\n",
    "    text_keys = {0:'H',1:'S',2:'T',3:'D',4:'D',5:'D'}\n",
    "    texts = {'H':[],'S':[],'T':[],'D':[]}\n",
    "    action_d_conv = {0:[0,1],1:[1,0],2:[0,-1],3:[-1,0]}\n",
    "\n",
    "    for i,env_grid in enumerate(env.all_grids):\n",
    "        coords = np.argwhere(env_grid==1)\n",
    "        for coord in coords:\n",
    "            texts[text_keys[i]].append(coord)\n",
    "            grid[coord[0],coord[1]] = 1\n",
    "            if i == 3:\n",
    "                current_coords = np.array(coord)\n",
    "                for actions in all_actions:\n",
    "                    action = action_d_conv[actions['drone_0']]\n",
    "                    plt.arrow(current_coords[1], current_coords[0], action[0], action[1], head_width=0.3, head_length=0.1, fc='blue', ec='blue')\n",
    "                    current_coords[0] = min(9,max(0,current_coords[0] + action[1]))\n",
    "                    current_coords[1] = min(9,max(0,current_coords[1] + action[0]))\n",
    "            elif i == 4:\n",
    "                current_coords = np.array(coord)\n",
    "                for actions in all_actions:\n",
    "                    action = action_d_conv[actions['drone_1']]\n",
    "                    plt.arrow(current_coords[1], current_coords[0], action[0], action[1], head_width=0.3, head_length=0.1, fc='red', ec='red')\n",
    "                    current_coords[0] = min(9,max(0,current_coords[0] + action[1]))\n",
    "                    current_coords[1] = min(9,max(0,current_coords[1] + action[0]))\n",
    "            elif i == 5:\n",
    "                current_coords = np.array(coord)\n",
    "                for actions in all_actions:\n",
    "                    action = action_d_conv[actions['drone_2']]\n",
    "                    plt.arrow(current_coords[1], current_coords[0], action[0], action[1], head_width=0.3, head_length=0.1, fc='green', ec='green')\n",
    "                    current_coords[0] = min(9,max(0,current_coords[0] + action[1]))\n",
    "                    current_coords[1] = min(9,max(0,current_coords[1] + action[0]))\n",
    "\n",
    "    # Add text annotations\n",
    "    for key,value in texts.items():\n",
    "        for v in value:\n",
    "            ax.text(v[1], v[0], key, ha='center', va='center', color='white')\n",
    "\n",
    "    # Plot the grid\n",
    "    plt.imshow(grid, cmap='Reds')\n",
    "    plt.gca().invert_yaxis()\n",
    "    #plt.colorbar()\n",
    "    plt.xticks([0,1,2,3,4,5,6,7,8,9])\n",
    "    plt.yticks([0,1,2,3,4,5,6,7,8,9])\n",
    "    plt.show()\n",
    "    \n",
    "get_visualisation(drone_actions)"
   ]
  },
  {
   "cell_type": "markdown",
   "id": "e94c2aad-49db-4b12-ae3a-e839ee08e246",
   "metadata": {},
   "source": [
    "# Calculate Reward"
   ]
  },
  {
   "cell_type": "code",
   "execution_count": 41,
   "id": "06ee064b-e112-4738-ab3b-f609b20df624",
   "metadata": {},
   "outputs": [
    {
     "name": "stdout",
     "output_type": "stream",
     "text": [
      "300\n"
     ]
    }
   ],
   "source": [
    "reward = 0\n",
    "for position_x,position_y in drone_1_path:\n",
    "    flipped_pos = np.array([position_x,position_y])\n",
    "    if np.array_equal(flipped_pos,target_location):\n",
    "        reward += env.reward_dictionary[2]\n",
    "    elif any(np.array_equal(row, flipped_pos) for row in human_locations):\n",
    "        reward += env.reward_dictionary[0]\n",
    "    elif any(np.array_equal(row, flipped_pos) for row in safe_locations):\n",
    "        reward += env.reward_dictionary[1]\n",
    "        \n",
    "for position_x,position_y in drone_2_path:\n",
    "    flipped_pos = np.array([position_x,position_y])\n",
    "    if np.array_equal(flipped_pos,target_location):\n",
    "        reward += env.reward_dictionary[2]\n",
    "    elif any(np.array_equal(row, flipped_pos) for row in human_locations):\n",
    "        reward += env.reward_dictionary[0]\n",
    "    elif any(np.array_equal(row, flipped_pos) for row in safe_locations):\n",
    "        reward += env.reward_dictionary[1]\n",
    "        \n",
    "for position_x,position_y in drone_3_path:\n",
    "    flipped_pos = np.array([position_x,position_y])\n",
    "    if np.array_equal(flipped_pos,target_location):\n",
    "        reward += env.reward_dictionary[2]\n",
    "    elif any(np.array_equal(row, flipped_pos) for row in human_locations):\n",
    "        reward += env.reward_dictionary[0]\n",
    "    elif any(np.array_equal(row, flipped_pos) for row in safe_locations):\n",
    "        reward += env.reward_dictionary[1]\n",
    "print(reward)"
   ]
  },
  {
   "cell_type": "code",
   "execution_count": 42,
   "id": "3e15eb23-11d0-40a7-a608-d01e1e5fa62e",
   "metadata": {},
   "outputs": [
    {
     "name": "stdout",
     "output_type": "stream",
     "text": [
      "Number of steps:  12\n"
     ]
    }
   ],
   "source": [
    "print(\"Number of steps: \", max(len(drone_1_path),len(drone_2_path),len(drone_3_path)))\n"
   ]
  },
  {
   "cell_type": "code",
   "execution_count": null,
   "id": "06e92ff4-ce2c-4351-8f49-59a675da194e",
   "metadata": {},
   "outputs": [],
   "source": []
  }
 ],
 "metadata": {
  "kernelspec": {
   "display_name": "Python 3 (ipykernel)",
   "language": "python",
   "name": "python3"
  },
  "language_info": {
   "codemirror_mode": {
    "name": "ipython",
    "version": 3
   },
   "file_extension": ".py",
   "mimetype": "text/x-python",
   "name": "python",
   "nbconvert_exporter": "python",
   "pygments_lexer": "ipython3",
   "version": "3.8.15"
  }
 },
 "nbformat": 4,
 "nbformat_minor": 5
}
